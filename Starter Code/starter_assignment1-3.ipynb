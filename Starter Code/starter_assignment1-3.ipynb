{
 "nbformat": 4,
 "nbformat_minor": 0,
 "metadata": {
  "colab": {
   "provenance": [],
   "gpuType": "T4"
  },
  "kernelspec": {
   "name": "python3",
   "display_name": "Python 3"
  },
  "language_info": {
   "name": "python"
  },
  "accelerator": "GPU",
  "gpuClass": "standard"
 },
 "cells": [
  {
   "cell_type": "markdown",
   "source": [
    "# Import necessary libraries"
   ],
   "metadata": {
    "id": "ulVQ2BfvkE2t"
   }
  },
  {
   "cell_type": "code",
   "execution_count": null,
   "metadata": {
    "id": "UdYIDhWFiQi-"
   },
   "source": [
    "import keras\n",
    "from keras.models import Sequential\n",
    "from keras.layers import Activation,Dense,Dropout,Conv2D,Flatten,MaxPooling2D\n",
    "from keras.datasets import cifar100\n",
    "from keras import optimizers\n",
    "from matplotlib import pyplot as plt\n",
    "\n",
    "import numpy as np\n",
    "from keras import backend as K\n",
    "from tensorflow.keras.losses import categorical_crossentropy\n",
    "from tensorflow.keras.optimizers import Adam\n",
    "from tensorflow.keras.callbacks import Callback, EarlyStopping\n",
    "import tensorflow as tf\n",
    "import datetime, os"
   ],
   "outputs": []
  },
  {
   "cell_type": "markdown",
   "source": [
    "# Load training data"
   ],
   "metadata": {
    "id": "5rwnt69mkI_j"
   }
  },
  {
   "cell_type": "code",
   "source": [
    "batch_size = 128\n",
    "num_classes = 100\n",
    "\n",
    "# load your data and view the shapes (fill out below)\n",
    "(X_train, y_train), (X_test, y_test) = ...\n",
    "\n",
    "print(\"X_train original shape\", X_train.shape)\n",
    "print(\"y_train original shape\", y_train.shape)"
   ],
   "metadata": {
    "id": "nwTTXkDAkDV7"
   },
   "execution_count": null,
   "outputs": []
  },
  {
   "cell_type": "code",
   "source": [
    "img_width, img_height, img_num_channels = X_train.shape[1:4]\n",
    "input_shape = (img_width, img_height, img_num_channels)"
   ],
   "metadata": {
    "id": "_Kfv7Tx9z8Yp"
   },
   "execution_count": null,
   "outputs": []
  },
  {
   "cell_type": "code",
   "source": [
    "# Visulize the first 5 elements in our data\n",
    "for i in range(5):\n",
    "    plt.subplot(3,3,i+1)\n",
    "    plt.imshow(X_train[i], cmap='gray', interpolation='none')"
   ],
   "metadata": {
    "id": "QXMbGO7Mpa0q"
   },
   "execution_count": null,
   "outputs": []
  },
  {
   "cell_type": "markdown",
   "source": [
    "# Format the data for training\n"
   ],
   "metadata": {
    "id": "wFYGf1VtsnA6"
   }
  },
  {
   "cell_type": "markdown",
   "source": [
    "- Converting to float32 and performing normalization ensures our data is in the correct format for our neural network.\n",
    "\n"
   ],
   "metadata": {
    "id": "TQh7KAo3-1hf"
   }
  },
  {
   "cell_type": "code",
   "source": [
    "# 1. conversion of the dataset to float 32\n",
    "X_train = X_train.astype('float32')\n",
    "X_test = X_test.astype('float32')\n",
    "\n",
    "# 2. Normalization (fill out below)\n",
    "...\n",
    "\n",
    "print('x_train shape:', X_train.shape)\n",
    "print(X_train.shape[0], 'train samples')\n",
    "print(X_test.shape[0], 'test samples')"
   ],
   "metadata": {
    "id": "-Mr7Hlgssrej"
   },
   "execution_count": null,
   "outputs": []
  },
  {
   "cell_type": "markdown",
   "source": [
    "One-Hot format: Represent categorical variables as binary vectors. It is used for the multi-class classification problems.\n",
    "\n",
    "* \"cat\" -> [1, 0, 0]\n",
    "* \"dog\" -> [0, 1, 0]\n",
    "* \"bird\" -> [0, 0, 1]"
   ],
   "metadata": {
    "id": "ITBmEwZyAYB0"
   }
  },
  {
   "cell_type": "code",
   "source": [
    "# Modify the label vectros to be in the one-hot format (fill out below)\n",
    "y_train = keras.utils.to_categorical(...)\n",
    "y_test = keras.utils.to_categorical(...)\n",
    "\n",
    "print(y_train)\n",
    "print(y_test)"
   ],
   "metadata": {
    "id": "yuQmiKpuASST"
   },
   "execution_count": null,
   "outputs": []
  },
  {
   "cell_type": "markdown",
   "source": [
    "# Build a sequential convolutional model"
   ],
   "metadata": {
    "id": "el3Rp4jWCJ-q"
   }
  },
  {
   "cell_type": "code",
   "source": [
    "model = Sequential()\n",
    "\n",
    "# first block\n",
    "model.add(...)\n",
    "\n",
    "# second block\n",
    "\n",
    "# third block\n",
    "\n",
    "# flatten to 1D vector\n",
    "\n",
    "# output layer\n",
    "\n"
   ],
   "metadata": {
    "id": "B-wFjhnNIR-a"
   },
   "execution_count": null,
   "outputs": []
  },
  {
   "cell_type": "code",
   "source": [
    "!pip install git+https://github.com/paulgavrikov/visualkeras --upgrade"
   ],
   "metadata": {
    "id": "ICayjbsU_A-N"
   },
   "execution_count": null,
   "outputs": []
  },
  {
   "cell_type": "code",
   "source": [
    "import visualkeras\n",
    "visualkeras.layered_view(model, legend=True)"
   ],
   "metadata": {
    "id": "wLj7YEKFvy1R"
   },
   "execution_count": null,
   "outputs": []
  },
  {
   "cell_type": "markdown",
   "source": [
    "# Compile the model\n",
    "- Choose your loss, optimizers, and any other metrics (e.g. Training accuracy, Test accuracy)"
   ],
   "metadata": {
    "id": "TVR54KOzFQfF"
   }
  },
  {
   "cell_type": "code",
   "source": [
    "model.compile(...)"
   ],
   "metadata": {
    "id": "xTSMB9fDFeW9"
   },
   "execution_count": null,
   "outputs": []
  },
  {
   "cell_type": "markdown",
   "source": [
    "# Train the model"
   ],
   "metadata": {
    "id": "jED9H1A6FgbW"
   }
  },
  {
   "cell_type": "code",
   "source": [
    "# Load the TensorBoard notebook extension, do not have to touch this.\n",
    "%load_ext tensorboard"
   ],
   "metadata": {
    "id": "HpkN9eZqFh-7"
   },
   "execution_count": null,
   "outputs": []
  },
  {
   "cell_type": "markdown",
   "source": [
    "Early Stopiing\n",
    "\n",
    "* With more epochs, we can decrease our loss over time. This may lead to overfitting.\n",
    "* Early stopping allows us to stop training when there is an increase in the loss value compared to the previous epoch.\n",
    "* Detailed Arguments: https://keras.io/api/callbacks/early_stopping/"
   ],
   "metadata": {
    "id": "1Q7MmfGh1oJM"
   }
  },
  {
   "cell_type": "code",
   "source": [
    "early_stop = EarlyStopping(monitor='val_loss', mode='min', verbose=1, patience=8, restore_best_weights = True)\n",
    "\n",
    "# For the TensorBoard, set the directory you want to save your log.\n",
    "logdir = os.path.join(\"logs\", datetime.datetime.now().strftime(\"%Y%m%d-%H%M%S\")) # log directory will be created\n",
    "tensorboard_callback = tf.keras.callbacks.TensorBoard(logdir, histogram_freq=1)\n",
    "\n",
    "\n",
    "history = model.fit(X_train, y_train,\n",
    "          batch_size=batch_size,\n",
    "          epochs=100,\n",
    "          verbose=1,\n",
    "          callbacks=[early_stop,tensorboard_callback],\n",
    "          validation_data=(X_test, y_test))"
   ],
   "metadata": {
    "id": "jbxQ1XKGFhxH"
   },
   "execution_count": null,
   "outputs": []
  },
  {
   "cell_type": "code",
   "source": [
    "# save the model\n",
    "model.save(\"best_conv.h5\")\n",
    "print(\"Model saved successfully\")"
   ],
   "metadata": {
    "id": "wMTyvhmQ442v"
   },
   "execution_count": null,
   "outputs": []
  },
  {
   "cell_type": "markdown",
   "source": [
    "Basics of Tensorboard, you can change options to change the shapes of scalars.\n",
    "\n",
    "https://colab.research.google.com/github/tensorflow/tensorboard/blob/master/docs/tensorboard_in_notebooks.ipynb"
   ],
   "metadata": {
    "id": "dQsFoKJnHvQA"
   }
  },
  {
   "cell_type": "code",
   "source": [
    "%tensorboard --logdir logs"
   ],
   "metadata": {
    "id": "NKRGR86jGE6y"
   },
   "execution_count": null,
   "outputs": []
  },
  {
   "cell_type": "markdown",
   "source": [
    "# Evaluate its performance"
   ],
   "metadata": {
    "id": "vVXtJFqxIBUc"
   }
  },
  {
   "cell_type": "code",
   "source": [
    "score = model.evaluate(X_test, y_test, batch_size=50,\n",
    "                                      steps=X_test.shape[0] // 50)\n",
    "\n",
    "print('Test loss: %.2f' % score[0])\n",
    "print('Test accuracy: %.2f'% score[1])"
   ],
   "metadata": {
    "id": "gC5qYVexIEzT"
   },
   "execution_count": null,
   "outputs": []
  },
  {
   "cell_type": "markdown",
   "source": [
    "## Results"
   ],
   "metadata": {
    "id": "9k8uNFN9Nk3y"
   }
  },
  {
   "cell_type": "markdown",
   "source": [
    "Use matplotlib to draw your results."
   ],
   "metadata": {
    "id": "ivGwUiFxOSvD"
   }
  },
  {
   "cell_type": "code",
   "source": [
    "import matplotlib.pyplot as plt\n",
    "\n",
    "score = model.evaluate(X_test, y_test, verbose=0)\n",
    "print(f'Test loss: {score[0]} / Test accuracy: {score[1]}')\n",
    "\n",
    "plt.figure(figsize=(10, 5))\n",
    "\n",
    "# here we plot our validation curves as an example.\n",
    "\n",
    "plt.subplot(1, 2, 1)\n",
    "# fill in below\n",
    "plt.plot(...)\n",
    "plt.title('Validation loss history')\n",
    "plt.ylabel('Loss value')\n",
    "plt.xlabel('No. epoch')\n",
    "\n",
    "plt.subplot(1, 2, 2)\n",
    "# fill in below\n",
    "plt.plot()\n",
    "plt.title('Validation accuracy history')\n",
    "plt.ylabel('Accuracy value (%)')\n",
    "plt.xlabel('No. epoch')\n",
    "\n",
    "plt.tight_layout()\n",
    "plt.show()"
   ],
   "metadata": {
    "id": "zZQgc55H4ltg"
   },
   "execution_count": null,
   "outputs": []
  },
  {
   "cell_type": "markdown",
   "source": [
    "Display images and labels here."
   ],
   "metadata": {
    "id": "SJEolhKg9l_G"
   }
  },
  {
   "cell_type": "code",
   "source": [
    "# start here with:\n",
    "predictions = model.predict(X_test)\n",
    "\n",
    "...\n",
    "\n",
    "# show the images and labels:\n",
    "\n",
    "..."
   ],
   "metadata": {
    "id": "VL5JYJYA9pAZ"
   },
   "execution_count": null,
   "outputs": []
  },
  {
   "cell_type": "markdown",
   "source": [
    "Here is sample code to help you think through getting the string labels, rather than the one hot encoded prediction output that looks like [0,0,0,0,1,...]."
   ],
   "metadata": {
    "id": "4i19bIo4U2_Z"
   }
  },
  {
   "cell_type": "code",
   "source": [
    "# define the class labels, may need to look them up\n",
    "fine_labels = [...]\n",
    "\n",
    "# test printing and indexing\n",
    "print(class_labels[0])\n",
    "\n",
    "# returning the label associated with the prediction's index\n",
    "def convert_to_string(prediction, labels):\n",
    "    # https://numpy.org/doc/stable/reference/generated/numpy.argmax.htmlax\n",
    "    index = np.argmax(prediction)\n",
    "\n",
    "    return labels[index]\n",
    "\n",
    "prediction = [...]\n",
    "label = convert_to_string(prediction, class_labels)\n",
    "\n",
    "print(label)\n"
   ],
   "metadata": {
    "id": "sqDNr813Szq4"
   },
   "execution_count": null,
   "outputs": []
  }
 ]
}
